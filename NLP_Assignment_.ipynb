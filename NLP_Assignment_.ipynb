{
 "cells": [
  {
   "cell_type": "markdown",
   "id": "90a77130",
   "metadata": {},
   "source": [
    "# Assignment1_text preprocessing"
   ]
  },
  {
   "cell_type": "code",
   "execution_count": 46,
   "id": "4a327eb1",
   "metadata": {},
   "outputs": [],
   "source": [
    "import pandas as pd"
   ]
  },
  {
   "cell_type": "code",
   "execution_count": 47,
   "id": "0bb3dd08",
   "metadata": {},
   "outputs": [],
   "source": [
    "df = pd.DataFrame({'name':[\"The Shawshank Redemption\", \"The Godfather\", \"The Godfather Part II\"\n",
    "], 'description': [\"Framed in the 1940s for the double murder of his wife and her lover, upstanding banker Andy Dufresne begins a new life at the Shawshank prison, where he puts his accounting skills to work for an amoral warden. During his long stretch in prison, Dufresne comes to be admired by the other inmates -- including an older prisoner named Red -- for his integrity and unquenchable sense of hope.\"\n",
    ", \"Spanning the years 1945 to 1955, a chronicle of the fictional Italian-American Corleone crime family. When organized crime family patriarch, Vito Corleone barely survives an attempt on his life, his youngest son, Michael steps in to take care of the would-be killers, launching a campaign of bloody revenge.\"\n",
    ", \"In the continuing saga of the Corleone crime family, a young Vito Corleone grows up in Sicily and in 1910s New York. In the 1950s, Michael Corleone attempts to expand the family business into Las Vegas, Hollywood and Cuba.\"\n",
    "], 'genre': [\"action\", \"comedy\", \"drama\"]\n",
    "})"
   ]
  },
  {
   "cell_type": "code",
   "execution_count": 48,
   "id": "7f9b3e84",
   "metadata": {},
   "outputs": [
    {
     "data": {
      "text/html": [
       "<div>\n",
       "<style scoped>\n",
       "    .dataframe tbody tr th:only-of-type {\n",
       "        vertical-align: middle;\n",
       "    }\n",
       "\n",
       "    .dataframe tbody tr th {\n",
       "        vertical-align: top;\n",
       "    }\n",
       "\n",
       "    .dataframe thead th {\n",
       "        text-align: right;\n",
       "    }\n",
       "</style>\n",
       "<table border=\"1\" class=\"dataframe\">\n",
       "  <thead>\n",
       "    <tr style=\"text-align: right;\">\n",
       "      <th></th>\n",
       "      <th>name</th>\n",
       "      <th>description</th>\n",
       "      <th>genre</th>\n",
       "    </tr>\n",
       "  </thead>\n",
       "  <tbody>\n",
       "    <tr>\n",
       "      <th>0</th>\n",
       "      <td>The Shawshank Redemption</td>\n",
       "      <td>Framed in the 1940s for the double murder of h...</td>\n",
       "      <td>action</td>\n",
       "    </tr>\n",
       "    <tr>\n",
       "      <th>1</th>\n",
       "      <td>The Godfather</td>\n",
       "      <td>Spanning the years 1945 to 1955, a chronicle o...</td>\n",
       "      <td>comedy</td>\n",
       "    </tr>\n",
       "    <tr>\n",
       "      <th>2</th>\n",
       "      <td>The Godfather Part II</td>\n",
       "      <td>In the continuing saga of the Corleone crime f...</td>\n",
       "      <td>drama</td>\n",
       "    </tr>\n",
       "  </tbody>\n",
       "</table>\n",
       "</div>"
      ],
      "text/plain": [
       "                       name  \\\n",
       "0  The Shawshank Redemption   \n",
       "1             The Godfather   \n",
       "2     The Godfather Part II   \n",
       "\n",
       "                                         description   genre  \n",
       "0  Framed in the 1940s for the double murder of h...  action  \n",
       "1  Spanning the years 1945 to 1955, a chronicle o...  comedy  \n",
       "2  In the continuing saga of the Corleone crime f...   drama  "
      ]
     },
     "execution_count": 48,
     "metadata": {},
     "output_type": "execute_result"
    }
   ],
   "source": [
    "df"
   ]
  },
  {
   "cell_type": "code",
   "execution_count": 49,
   "id": "47c569bf",
   "metadata": {},
   "outputs": [],
   "source": [
    "df['description'] = df['description'].str.lower()"
   ]
  },
  {
   "cell_type": "code",
   "execution_count": 50,
   "id": "f7b00288",
   "metadata": {},
   "outputs": [
    {
     "data": {
      "text/html": [
       "<div>\n",
       "<style scoped>\n",
       "    .dataframe tbody tr th:only-of-type {\n",
       "        vertical-align: middle;\n",
       "    }\n",
       "\n",
       "    .dataframe tbody tr th {\n",
       "        vertical-align: top;\n",
       "    }\n",
       "\n",
       "    .dataframe thead th {\n",
       "        text-align: right;\n",
       "    }\n",
       "</style>\n",
       "<table border=\"1\" class=\"dataframe\">\n",
       "  <thead>\n",
       "    <tr style=\"text-align: right;\">\n",
       "      <th></th>\n",
       "      <th>name</th>\n",
       "      <th>description</th>\n",
       "      <th>genre</th>\n",
       "    </tr>\n",
       "  </thead>\n",
       "  <tbody>\n",
       "    <tr>\n",
       "      <th>0</th>\n",
       "      <td>The Shawshank Redemption</td>\n",
       "      <td>framed in the 1940s for the double murder of h...</td>\n",
       "      <td>action</td>\n",
       "    </tr>\n",
       "    <tr>\n",
       "      <th>1</th>\n",
       "      <td>The Godfather</td>\n",
       "      <td>spanning the years 1945 to 1955, a chronicle o...</td>\n",
       "      <td>comedy</td>\n",
       "    </tr>\n",
       "    <tr>\n",
       "      <th>2</th>\n",
       "      <td>The Godfather Part II</td>\n",
       "      <td>in the continuing saga of the corleone crime f...</td>\n",
       "      <td>drama</td>\n",
       "    </tr>\n",
       "  </tbody>\n",
       "</table>\n",
       "</div>"
      ],
      "text/plain": [
       "                       name  \\\n",
       "0  The Shawshank Redemption   \n",
       "1             The Godfather   \n",
       "2     The Godfather Part II   \n",
       "\n",
       "                                         description   genre  \n",
       "0  framed in the 1940s for the double murder of h...  action  \n",
       "1  spanning the years 1945 to 1955, a chronicle o...  comedy  \n",
       "2  in the continuing saga of the corleone crime f...   drama  "
      ]
     },
     "execution_count": 50,
     "metadata": {},
     "output_type": "execute_result"
    }
   ],
   "source": [
    "df"
   ]
  },
  {
   "cell_type": "code",
   "execution_count": 51,
   "id": "5e2da804",
   "metadata": {},
   "outputs": [],
   "source": [
    "import string"
   ]
  },
  {
   "cell_type": "code",
   "execution_count": 52,
   "id": "e2f338a5",
   "metadata": {},
   "outputs": [],
   "source": [
    "regular_exp = string.punctuation\n",
    "import re\n",
    "def remove_regular_expression(text):\n",
    "    pattern = re.compile('<.*?>')\n",
    "    return pattern.sub(r'', text)"
   ]
  },
  {
   "cell_type": "code",
   "execution_count": 53,
   "id": "7c4da7a0",
   "metadata": {},
   "outputs": [],
   "source": [
    "df['description'] = df['description'].apply(remove_regular_expression)"
   ]
  },
  {
   "cell_type": "code",
   "execution_count": 54,
   "id": "2de9913c",
   "metadata": {},
   "outputs": [],
   "source": [
    "exclude  = string.punctuation"
   ]
  },
  {
   "cell_type": "code",
   "execution_count": 55,
   "id": "ee9822cf",
   "metadata": {},
   "outputs": [],
   "source": [
    "def remove_punctuation(text):\n",
    "    return text.translate(str.maketrans('', '', exclude))"
   ]
  },
  {
   "cell_type": "code",
   "execution_count": 56,
   "id": "ecbdf2a4",
   "metadata": {},
   "outputs": [],
   "source": [
    "df['description'] = df['description'].apply(remove_punctuation)"
   ]
  },
  {
   "cell_type": "code",
   "execution_count": 57,
   "id": "3095ea9e",
   "metadata": {},
   "outputs": [],
   "source": [
    "from textblob import TextBlob"
   ]
  },
  {
   "cell_type": "code",
   "execution_count": 58,
   "id": "d8fcaad9",
   "metadata": {},
   "outputs": [],
   "source": [
    "df['description'] = df['description'].apply(lambda x: str(TextBlob(x).correct()))\n"
   ]
  },
  {
   "cell_type": "code",
   "execution_count": 59,
   "id": "84626e7b",
   "metadata": {},
   "outputs": [
    {
     "data": {
      "text/plain": [
       "['i',\n",
       " 'me',\n",
       " 'my',\n",
       " 'myself',\n",
       " 'we',\n",
       " 'our',\n",
       " 'ours',\n",
       " 'ourselves',\n",
       " 'you',\n",
       " \"you're\",\n",
       " \"you've\",\n",
       " \"you'll\",\n",
       " \"you'd\",\n",
       " 'your',\n",
       " 'yours',\n",
       " 'yourself',\n",
       " 'yourselves',\n",
       " 'he',\n",
       " 'him',\n",
       " 'his',\n",
       " 'himself',\n",
       " 'she',\n",
       " \"she's\",\n",
       " 'her',\n",
       " 'hers',\n",
       " 'herself',\n",
       " 'it',\n",
       " \"it's\",\n",
       " 'its',\n",
       " 'itself',\n",
       " 'they',\n",
       " 'them',\n",
       " 'their',\n",
       " 'theirs',\n",
       " 'themselves',\n",
       " 'what',\n",
       " 'which',\n",
       " 'who',\n",
       " 'whom',\n",
       " 'this',\n",
       " 'that',\n",
       " \"that'll\",\n",
       " 'these',\n",
       " 'those',\n",
       " 'am',\n",
       " 'is',\n",
       " 'are',\n",
       " 'was',\n",
       " 'were',\n",
       " 'be',\n",
       " 'been',\n",
       " 'being',\n",
       " 'have',\n",
       " 'has',\n",
       " 'had',\n",
       " 'having',\n",
       " 'do',\n",
       " 'does',\n",
       " 'did',\n",
       " 'doing',\n",
       " 'a',\n",
       " 'an',\n",
       " 'the',\n",
       " 'and',\n",
       " 'but',\n",
       " 'if',\n",
       " 'or',\n",
       " 'because',\n",
       " 'as',\n",
       " 'until',\n",
       " 'while',\n",
       " 'of',\n",
       " 'at',\n",
       " 'by',\n",
       " 'for',\n",
       " 'with',\n",
       " 'about',\n",
       " 'against',\n",
       " 'between',\n",
       " 'into',\n",
       " 'through',\n",
       " 'during',\n",
       " 'before',\n",
       " 'after',\n",
       " 'above',\n",
       " 'below',\n",
       " 'to',\n",
       " 'from',\n",
       " 'up',\n",
       " 'down',\n",
       " 'in',\n",
       " 'out',\n",
       " 'on',\n",
       " 'off',\n",
       " 'over',\n",
       " 'under',\n",
       " 'again',\n",
       " 'further',\n",
       " 'then',\n",
       " 'once',\n",
       " 'here',\n",
       " 'there',\n",
       " 'when',\n",
       " 'where',\n",
       " 'why',\n",
       " 'how',\n",
       " 'all',\n",
       " 'any',\n",
       " 'both',\n",
       " 'each',\n",
       " 'few',\n",
       " 'more',\n",
       " 'most',\n",
       " 'other',\n",
       " 'some',\n",
       " 'such',\n",
       " 'no',\n",
       " 'nor',\n",
       " 'not',\n",
       " 'only',\n",
       " 'own',\n",
       " 'same',\n",
       " 'so',\n",
       " 'than',\n",
       " 'too',\n",
       " 'very',\n",
       " 's',\n",
       " 't',\n",
       " 'can',\n",
       " 'will',\n",
       " 'just',\n",
       " 'don',\n",
       " \"don't\",\n",
       " 'should',\n",
       " \"should've\",\n",
       " 'now',\n",
       " 'd',\n",
       " 'll',\n",
       " 'm',\n",
       " 'o',\n",
       " 're',\n",
       " 've',\n",
       " 'y',\n",
       " 'ain',\n",
       " 'aren',\n",
       " \"aren't\",\n",
       " 'couldn',\n",
       " \"couldn't\",\n",
       " 'didn',\n",
       " \"didn't\",\n",
       " 'doesn',\n",
       " \"doesn't\",\n",
       " 'hadn',\n",
       " \"hadn't\",\n",
       " 'hasn',\n",
       " \"hasn't\",\n",
       " 'haven',\n",
       " \"haven't\",\n",
       " 'isn',\n",
       " \"isn't\",\n",
       " 'ma',\n",
       " 'mightn',\n",
       " \"mightn't\",\n",
       " 'mustn',\n",
       " \"mustn't\",\n",
       " 'needn',\n",
       " \"needn't\",\n",
       " 'shan',\n",
       " \"shan't\",\n",
       " 'shouldn',\n",
       " \"shouldn't\",\n",
       " 'wasn',\n",
       " \"wasn't\",\n",
       " 'weren',\n",
       " \"weren't\",\n",
       " 'won',\n",
       " \"won't\",\n",
       " 'wouldn',\n",
       " \"wouldn't\"]"
      ]
     },
     "execution_count": 59,
     "metadata": {},
     "output_type": "execute_result"
    }
   ],
   "source": [
    "import nltk\n",
    "stopwords.words('english')"
   ]
  },
  {
   "cell_type": "code",
   "execution_count": 60,
   "id": "e8df2d41",
   "metadata": {},
   "outputs": [],
   "source": [
    "from nltk.corpus import stopwords\n",
    "\n",
    "stopwords_set = set(stopwords.words('english'))\n",
    "\n",
    "def remove_stopwords(text):\n",
    "    words = text.split()\n",
    "    filtered_words = [word for word in words if word.lower() not in stopwords_set]\n",
    "    return ' '.join(filtered_words)\n",
    "\n",
    "df['description'] = df['description'].apply(remove_stopwords)\n"
   ]
  },
  {
   "cell_type": "code",
   "execution_count": 61,
   "id": "3f7fd734",
   "metadata": {},
   "outputs": [
    {
     "data": {
      "text/plain": [
       "0    framed 1940s double murder wife lover standing...\n",
       "1    spanning years 1945 1955 chronicle sectional i...\n",
       "2    continuing sage corleone crime family young ve...\n",
       "Name: description, dtype: object"
      ]
     },
     "execution_count": 61,
     "metadata": {},
     "output_type": "execute_result"
    }
   ],
   "source": [
    "df['description']"
   ]
  },
  {
   "cell_type": "code",
   "execution_count": 63,
   "id": "9377e199",
   "metadata": {},
   "outputs": [],
   "source": [
    "import emoji\n",
    "df['description'] = emoji.demojize(df['description'])"
   ]
  },
  {
   "cell_type": "code",
   "execution_count": 64,
   "id": "9acb0245",
   "metadata": {},
   "outputs": [],
   "source": [
    "from nltk.tokenize import word_tokenize"
   ]
  },
  {
   "cell_type": "code",
   "execution_count": 67,
   "id": "73910030",
   "metadata": {},
   "outputs": [],
   "source": [
    "df['tokenized_description'] = df['description'].apply(lambda x: word_tokenize(x))"
   ]
  },
  {
   "cell_type": "code",
   "execution_count": 68,
   "id": "e6334f3d",
   "metadata": {},
   "outputs": [
    {
     "data": {
      "text/plain": [
       "0    [framed, 1940s, double, murder, wife, lover, s...\n",
       "1    [framed, 1940s, double, murder, wife, lover, s...\n",
       "2    [framed, 1940s, double, murder, wife, lover, s...\n",
       "Name: tokenized_description, dtype: object"
      ]
     },
     "execution_count": 68,
     "metadata": {},
     "output_type": "execute_result"
    }
   ],
   "source": [
    "df['tokenized_description']"
   ]
  },
  {
   "cell_type": "code",
   "execution_count": null,
   "id": "91b41787",
   "metadata": {},
   "outputs": [],
   "source": []
  },
  {
   "cell_type": "code",
   "execution_count": null,
   "id": "ed599354",
   "metadata": {},
   "outputs": [],
   "source": []
  },
  {
   "cell_type": "markdown",
   "id": "ae1574b2",
   "metadata": {},
   "source": [
    "# Assignment_Text Representation"
   ]
  },
  {
   "cell_type": "code",
   "execution_count": 69,
   "id": "09d83f01",
   "metadata": {},
   "outputs": [],
   "source": [
    "import numpy as np"
   ]
  },
  {
   "cell_type": "code",
   "execution_count": 70,
   "id": "b50e374c",
   "metadata": {},
   "outputs": [],
   "source": [
    "from sklearn.feature_extraction.text import CountVectorizer\n",
    "cv = CountVectorizer()"
   ]
  },
  {
   "cell_type": "code",
   "execution_count": 72,
   "id": "2e7b8a28",
   "metadata": {},
   "outputs": [],
   "source": [
    "bow = cv.fit_transform(df['description'])"
   ]
  },
  {
   "cell_type": "code",
   "execution_count": 73,
   "id": "1d99b9b0",
   "metadata": {},
   "outputs": [
    {
     "name": "stdout",
     "output_type": "stream",
     "text": [
      "{'framed': 27, '1940s': 1, 'double': 23, 'murder': 43, 'wife': 69, 'lover': 40, 'standing': 61, 'banker': 10, 'andy': 7, 'duquesne': 24, 'begins': 13, 'new': 45, 'life': 38, 'shawshank': 57, 'prison': 49, 'puts': 51, 'accounting': 5, 'skill': 59, 'work': 70, 'moral': 42, 'garden': 28, 'long': 39, 'stretch': 63, 'comes': 19, 'admired': 6, 'inmates': 33, 'including': 32, 'older': 46, 'prisoner': 50, 'named': 44, 'red': 52, 'integrity': 34, 'unquenchable': 67, 'sense': 56, 'hopespanning': 31, 'years': 72, '1945': 2, '1955': 4, 'chronicle': 18, 'sectional': 55, 'italianamerican': 35, 'corleone': 20, 'crime': 21, 'family': 26, 'organized': 47, 'patriarch': 48, 'veto': 68, 'barely': 11, 'survives': 64, 'attempt': 8, 'youngest': 75, 'son': 60, 'michael': 41, 'steps': 62, 'take': 65, 'care': 17, 'would': 71, 'tillers': 66, 'launching': 37, 'campaign': 16, 'bloody': 14, 'revengecontinuing': 53, 'sage': 54, 'young': 74, 'grows': 29, 'sicily': 58, '1910s': 0, 'york': 73, '1950s': 3, 'attempts': 9, 'expand': 25, 'business': 15, 'las': 36, 'began': 12, 'hollywood': 30, 'cuba': 22}\n"
     ]
    }
   ],
   "source": [
    "print(cv.vocabulary_)"
   ]
  },
  {
   "cell_type": "code",
   "execution_count": 81,
   "id": "6d3dffdf",
   "metadata": {},
   "outputs": [],
   "source": [
    "cv2 = CountVectorizer(ngram_range = (2,2))"
   ]
  },
  {
   "cell_type": "code",
   "execution_count": 1,
   "id": "a0d76ff5",
   "metadata": {},
   "outputs": [
    {
     "ename": "NameError",
     "evalue": "name 'cv2' is not defined",
     "output_type": "error",
     "traceback": [
      "\u001b[1;31m---------------------------------------------------------------------------\u001b[0m",
      "\u001b[1;31mNameError\u001b[0m                                 Traceback (most recent call last)",
      "\u001b[1;32m~\\AppData\\Local\\Temp\\ipykernel_29500\\795671607.py\u001b[0m in \u001b[0;36m<module>\u001b[1;34m\u001b[0m\n\u001b[1;32m----> 1\u001b[1;33m \u001b[0mbow\u001b[0m \u001b[1;33m=\u001b[0m \u001b[0mcv2\u001b[0m\u001b[1;33m.\u001b[0m\u001b[0mfit_transform\u001b[0m\u001b[1;33m(\u001b[0m\u001b[0mdf\u001b[0m\u001b[1;33m[\u001b[0m\u001b[1;34m'description'\u001b[0m\u001b[1;33m]\u001b[0m\u001b[1;33m)\u001b[0m\u001b[1;33m\u001b[0m\u001b[1;33m\u001b[0m\u001b[0m\n\u001b[0m",
      "\u001b[1;31mNameError\u001b[0m: name 'cv2' is not defined"
     ]
    }
   ],
   "source": [
    "bow = cv2.fit_transform(df['description'])"
   ]
  },
  {
   "cell_type": "code",
   "execution_count": 83,
   "id": "2d42bcf0",
   "metadata": {},
   "outputs": [
    {
     "data": {
      "text/plain": [
       "array([[1, 1, 1, 1, 1, 1, 1, 1, 1, 1, 1, 1, 1, 1, 1, 1, 1, 1, 1, 1, 1, 1,\n",
       "        2, 1, 3, 1, 1, 1, 1, 1, 1, 1, 1, 1, 1, 1, 1, 1, 1, 1, 1, 1, 1, 1,\n",
       "        1, 1, 1, 1, 1, 1, 1, 1, 1, 1, 1, 1, 1, 1, 1, 1, 1, 1, 1, 1, 1, 1,\n",
       "        1, 1, 1, 1, 1, 1, 1, 1, 1, 1, 1, 1, 2, 1, 1, 1, 1, 1, 1, 1]],\n",
       "      dtype=int64)"
      ]
     },
     "execution_count": 83,
     "metadata": {},
     "output_type": "execute_result"
    }
   ],
   "source": [
    "bow[0].toarray()"
   ]
  },
  {
   "cell_type": "code",
   "execution_count": 84,
   "id": "8e6d6656",
   "metadata": {},
   "outputs": [
    {
     "name": "stdout",
     "output_type": "stream",
     "text": [
      "{'framed 1940s': 33, '1940s double': 1, 'double murder': 25, 'murder wife': 51, 'wife lover': 79, 'lover standing': 47, 'standing banker': 71, 'banker andy': 10, 'andy duquesne': 7, 'duquesne begins': 26, 'begins new': 13, 'new life': 53, 'life shawshank': 44, 'shawshank prison': 67, 'prison puts': 59, 'puts accounting': 61, 'accounting skill': 5, 'skill work': 69, 'work moral': 80, 'moral garden': 50, 'garden long': 34, 'long stretch': 46, 'stretch prison': 73, 'prison duquesne': 58, 'duquesne comes': 27, 'comes admired': 19, 'admired inmates': 6, 'inmates including': 39, 'including older': 38, 'older prisoner': 55, 'prisoner named': 60, 'named red': 52, 'red integrity': 62, 'integrity unquenchable': 40, 'unquenchable sense': 77, 'sense hopespanning': 66, 'hopespanning years': 37, 'years 1945': 82, '1945 1955': 2, '1955 chronicle': 4, 'chronicle sectional': 18, 'sectional italianamerican': 65, 'italianamerican corleone': 41, 'corleone crime': 22, 'crime family': 24, 'family organized': 30, 'organized crime': 56, 'family patriarch': 31, 'patriarch veto': 57, 'veto corleone': 78, 'corleone barely': 21, 'barely survives': 11, 'survives attempt': 74, 'attempt life': 8, 'life youngest': 45, 'youngest son': 85, 'son michael': 70, 'michael steps': 49, 'steps take': 72, 'take care': 75, 'care would': 17, 'would tillers': 81, 'tillers launching': 76, 'launching campaign': 43, 'campaign bloody': 16, 'bloody revengecontinuing': 14, 'revengecontinuing sage': 63, 'sage corleone': 64, 'family young': 32, 'young veto': 84, 'corleone grows': 23, 'grows sicily': 35, 'sicily 1910s': 68, '1910s new': 0, 'new york': 54, 'york 1950s': 83, '1950s michael': 3, 'michael corleone': 48, 'corleone attempts': 20, 'attempts expand': 9, 'expand family': 28, 'family business': 29, 'business las': 15, 'las began': 42, 'began hollywood': 12, 'hollywood cuba': 36}\n"
     ]
    }
   ],
   "source": [
    "print(cv2.vocabulary_)"
   ]
  },
  {
   "cell_type": "code",
   "execution_count": 85,
   "id": "7bc36f05",
   "metadata": {},
   "outputs": [],
   "source": [
    "from sklearn.feature_extraction.text import TfidfVectorizer"
   ]
  },
  {
   "cell_type": "code",
   "execution_count": 87,
   "id": "6f4d1476",
   "metadata": {},
   "outputs": [
    {
     "data": {
      "text/plain": [
       "array([[0.08421519, 0.08421519, 0.08421519, 0.08421519, 0.08421519,\n",
       "        0.08421519, 0.08421519, 0.08421519, 0.08421519, 0.08421519,\n",
       "        0.08421519, 0.08421519, 0.08421519, 0.08421519, 0.08421519,\n",
       "        0.08421519, 0.08421519, 0.08421519, 0.08421519, 0.08421519,\n",
       "        0.42107596, 0.25264558, 0.08421519, 0.08421519, 0.16843038,\n",
       "        0.08421519, 0.33686077, 0.08421519, 0.08421519, 0.08421519,\n",
       "        0.08421519, 0.08421519, 0.08421519, 0.08421519, 0.08421519,\n",
       "        0.08421519, 0.08421519, 0.08421519, 0.16843038, 0.08421519,\n",
       "        0.08421519, 0.16843038, 0.08421519, 0.08421519, 0.08421519,\n",
       "        0.16843038, 0.08421519, 0.08421519, 0.08421519, 0.16843038,\n",
       "        0.08421519, 0.08421519, 0.08421519, 0.08421519, 0.08421519,\n",
       "        0.08421519, 0.08421519, 0.08421519, 0.08421519, 0.08421519,\n",
       "        0.08421519, 0.08421519, 0.08421519, 0.08421519, 0.08421519,\n",
       "        0.08421519, 0.08421519, 0.08421519, 0.16843038, 0.08421519,\n",
       "        0.08421519, 0.08421519, 0.08421519, 0.08421519, 0.08421519,\n",
       "        0.08421519],\n",
       "       [0.08421519, 0.08421519, 0.08421519, 0.08421519, 0.08421519,\n",
       "        0.08421519, 0.08421519, 0.08421519, 0.08421519, 0.08421519,\n",
       "        0.08421519, 0.08421519, 0.08421519, 0.08421519, 0.08421519,\n",
       "        0.08421519, 0.08421519, 0.08421519, 0.08421519, 0.08421519,\n",
       "        0.42107596, 0.25264558, 0.08421519, 0.08421519, 0.16843038,\n",
       "        0.08421519, 0.33686077, 0.08421519, 0.08421519, 0.08421519,\n",
       "        0.08421519, 0.08421519, 0.08421519, 0.08421519, 0.08421519,\n",
       "        0.08421519, 0.08421519, 0.08421519, 0.16843038, 0.08421519,\n",
       "        0.08421519, 0.16843038, 0.08421519, 0.08421519, 0.08421519,\n",
       "        0.16843038, 0.08421519, 0.08421519, 0.08421519, 0.16843038,\n",
       "        0.08421519, 0.08421519, 0.08421519, 0.08421519, 0.08421519,\n",
       "        0.08421519, 0.08421519, 0.08421519, 0.08421519, 0.08421519,\n",
       "        0.08421519, 0.08421519, 0.08421519, 0.08421519, 0.08421519,\n",
       "        0.08421519, 0.08421519, 0.08421519, 0.16843038, 0.08421519,\n",
       "        0.08421519, 0.08421519, 0.08421519, 0.08421519, 0.08421519,\n",
       "        0.08421519],\n",
       "       [0.08421519, 0.08421519, 0.08421519, 0.08421519, 0.08421519,\n",
       "        0.08421519, 0.08421519, 0.08421519, 0.08421519, 0.08421519,\n",
       "        0.08421519, 0.08421519, 0.08421519, 0.08421519, 0.08421519,\n",
       "        0.08421519, 0.08421519, 0.08421519, 0.08421519, 0.08421519,\n",
       "        0.42107596, 0.25264558, 0.08421519, 0.08421519, 0.16843038,\n",
       "        0.08421519, 0.33686077, 0.08421519, 0.08421519, 0.08421519,\n",
       "        0.08421519, 0.08421519, 0.08421519, 0.08421519, 0.08421519,\n",
       "        0.08421519, 0.08421519, 0.08421519, 0.16843038, 0.08421519,\n",
       "        0.08421519, 0.16843038, 0.08421519, 0.08421519, 0.08421519,\n",
       "        0.16843038, 0.08421519, 0.08421519, 0.08421519, 0.16843038,\n",
       "        0.08421519, 0.08421519, 0.08421519, 0.08421519, 0.08421519,\n",
       "        0.08421519, 0.08421519, 0.08421519, 0.08421519, 0.08421519,\n",
       "        0.08421519, 0.08421519, 0.08421519, 0.08421519, 0.08421519,\n",
       "        0.08421519, 0.08421519, 0.08421519, 0.16843038, 0.08421519,\n",
       "        0.08421519, 0.08421519, 0.08421519, 0.08421519, 0.08421519,\n",
       "        0.08421519]])"
      ]
     },
     "execution_count": 87,
     "metadata": {},
     "output_type": "execute_result"
    }
   ],
   "source": [
    "tfidf = TfidfVectorizer()\n",
    "(tfidf.fit_transform(df['description']).toarray())"
   ]
  },
  {
   "cell_type": "code",
   "execution_count": null,
   "id": "29003b12",
   "metadata": {},
   "outputs": [],
   "source": []
  }
 ],
 "metadata": {
  "kernelspec": {
   "display_name": "Python 3 (ipykernel)",
   "language": "python",
   "name": "python3"
  },
  "language_info": {
   "codemirror_mode": {
    "name": "ipython",
    "version": 3
   },
   "file_extension": ".py",
   "mimetype": "text/x-python",
   "name": "python",
   "nbconvert_exporter": "python",
   "pygments_lexer": "ipython3",
   "version": "3.9.13"
  }
 },
 "nbformat": 4,
 "nbformat_minor": 5
}
